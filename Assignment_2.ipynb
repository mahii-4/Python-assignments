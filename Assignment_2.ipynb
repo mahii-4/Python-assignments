{
  "nbformat": 4,
  "nbformat_minor": 0,
  "metadata": {
    "colab": {
      "provenance": []
    },
    "kernelspec": {
      "name": "python3",
      "display_name": "Python 3"
    },
    "language_info": {
      "name": "python"
    }
  },
  "cells": [
    {
      "cell_type": "markdown",
      "source": [
        "1.Are lists mutable or immutable, explain with an example"
      ],
      "metadata": {
        "id": "NNrwfyzs9gxN"
      }
    },
    {
      "cell_type": "code",
      "execution_count": 6,
      "metadata": {
        "colab": {
          "base_uri": "https://localhost:8080/"
        },
        "id": "R3d-r5qa9csS",
        "outputId": "20357abe-b0db-468d-a3df-914b71611971"
      },
      "outputs": [
        {
          "output_type": "stream",
          "name": "stdout",
          "text": [
            "Original list: [1, 2, 3, 4]\n",
            "Modified list: [10, 2, 3, 4]\n"
          ]
        }
      ],
      "source": [
        "my_list = [1, 2, 3, 4]\n",
        "print(\"Original list:\", my_list)\n",
        "\n",
        "# Changing an element in the list\n",
        "my_list[0] = 10\n",
        "print(\"Modified list:\", my_list)"
      ]
    },
    {
      "cell_type": "markdown",
      "source": [
        "2.Take any example of list on your own and perform atleast 5 list operations on that"
      ],
      "metadata": {
        "id": "qbRWx_w9-Ecg"
      }
    },
    {
      "cell_type": "code",
      "source": [
        "# Initial list\n",
        "my_list = [10, 20, 30, 40, 50]\n",
        "print(my_list)\n",
        "\n",
        "# 1. Append a new element to the list\n",
        "my_list.append(60)\n",
        "print(\"Modified list:\", my_list)\n",
        "\n",
        "# 2. Insert an element at a specific position (index 2)\n",
        "my_list.insert(2, 25)\n",
        "print(\"Modified list:\", my_list)\n",
        "\n",
        "# 3. Remove an element from the list (removes the first occurrence of the value)\n",
        "my_list.remove(40)\n",
        "print(\"Modified list:\", my_list)\n",
        "\n",
        "# 4. Pop an element from the list (removes and returns the last element)\n",
        "popped_element = my_list.pop()\n",
        "print(\"Popped element:\", popped_element)\n",
        "\n",
        "# 5. Find the index of a specific element (here, we find index of 30)\n",
        "index_of_30 = my_list.index(30)\n",
        "print(\"Index of 30:\", index_of_30)\n",
        "\n"
      ],
      "metadata": {
        "colab": {
          "base_uri": "https://localhost:8080/"
        },
        "id": "7SWb4cRn-PI5",
        "outputId": "5962c8b3-9989-427b-ca81-d58d12de1e7b"
      },
      "execution_count": 7,
      "outputs": [
        {
          "output_type": "stream",
          "name": "stdout",
          "text": [
            "[10, 20, 30, 40, 50]\n",
            "Modified list: [10, 20, 30, 40, 50, 60]\n",
            "Modified list: [10, 20, 25, 30, 40, 50, 60]\n",
            "Modified list: [10, 20, 25, 30, 50, 60]\n",
            "Popped element: 60\n",
            "Index of 30: 3\n"
          ]
        }
      ]
    },
    {
      "cell_type": "markdown",
      "source": [
        "3.Create a new list containing only the even numbers from the original list.\n",
        "\n",
        "original list ;[1,2,2,4,5,6,7,12,3,456,78,67,89,90]\n"
      ],
      "metadata": {
        "id": "k7fdZlYt_AfM"
      }
    },
    {
      "cell_type": "code",
      "source": [
        "# Original list\n",
        "original_list = [1, 2, 2, 4, 5, 6, 7, 12, 3, 456, 78, 67, 89, 90]\n",
        "\n",
        "# Create a new list with only even numbers\n",
        "even_numbers = [num for num in original_list if num % 2 == 0]\n",
        "\n",
        "# Print the result\n",
        "print(\"Even numbers:\", even_numbers)"
      ],
      "metadata": {
        "colab": {
          "base_uri": "https://localhost:8080/"
        },
        "id": "SVJk6AKg_CK4",
        "outputId": "c95ed0fc-f2d8-43d3-861c-7cbf5362255b"
      },
      "execution_count": 8,
      "outputs": [
        {
          "output_type": "stream",
          "name": "stdout",
          "text": [
            "Even numbers: [2, 2, 4, 6, 12, 456, 78, 90]\n"
          ]
        }
      ]
    },
    {
      "cell_type": "markdown",
      "source": [
        "4.Create a new list with the squares of each element in the original list.\n",
        "\n",
        "original list : [3,5,6,8,2,45]"
      ],
      "metadata": {
        "id": "_Ij9ZTnW_O63"
      }
    },
    {
      "cell_type": "code",
      "source": [
        "# Original list\n",
        "original_list = [3, 5, 6, 8, 2, 45]\n",
        "\n",
        "# Create a new list with squares of each element\n",
        "squared_numbers = [num ** 2 for num in original_list]\n",
        "\n",
        "# Print the result\n",
        "print(\"Squared numbers:\", squared_numbers)"
      ],
      "metadata": {
        "colab": {
          "base_uri": "https://localhost:8080/"
        },
        "id": "8xLuUOKy_P75",
        "outputId": "0c174ade-5647-42fd-c66b-e0189043cc8a"
      },
      "execution_count": 9,
      "outputs": [
        {
          "output_type": "stream",
          "name": "stdout",
          "text": [
            "Squared numbers: [9, 25, 36, 64, 4, 2025]\n"
          ]
        }
      ]
    },
    {
      "cell_type": "markdown",
      "source": [
        "5.Check if all elements in the list are positive and return all the positive elements in a new list.\n",
        "\n",
        "input ; [12,23,4,56,77,-89,7,90,90,-87,-99]"
      ],
      "metadata": {
        "id": "NowwB8F1_b71"
      }
    },
    {
      "cell_type": "code",
      "source": [
        "# Input list\n",
        "input_list = [12, 23, 4, 56, 77, -89, 7, 90, 90, -87, -99]\n",
        "\n",
        "# Create a new list with only positive elements\n",
        "positive_numbers = [num for num in input_list if num > 0]\n",
        "\n",
        "# Print the result\n",
        "print(\"Positive numbers:\", positive_numbers)\n"
      ],
      "metadata": {
        "colab": {
          "base_uri": "https://localhost:8080/"
        },
        "id": "W1L_seEl_dMp",
        "outputId": "e2ffddb2-931a-40af-81c7-e0144ba33e2c"
      },
      "execution_count": 10,
      "outputs": [
        {
          "output_type": "stream",
          "name": "stdout",
          "text": [
            "Positive numbers: [12, 23, 4, 56, 77, 7, 90, 90]\n"
          ]
        }
      ]
    }
  ]
}