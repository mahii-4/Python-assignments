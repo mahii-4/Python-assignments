{
  "nbformat": 4,
  "nbformat_minor": 0,
  "metadata": {
    "colab": {
      "provenance": []
    },
    "kernelspec": {
      "name": "python3",
      "display_name": "Python 3"
    },
    "language_info": {
      "name": "python"
    }
  },
  "cells": [
    {
      "cell_type": "markdown",
      "source": [
        "1.Remove empty strings from the list1 of strings\n",
        "\n",
        "list1 = [\"Mike\", \" \", \"Emma\", \"Kelly\", \" \", \"Brad\"]"
      ],
      "metadata": {
        "id": "iZfv0DrRAcYR"
      }
    },
    {
      "cell_type": "code",
      "execution_count": 1,
      "metadata": {
        "colab": {
          "base_uri": "https://localhost:8080/"
        },
        "id": "wyDQvxleANSp",
        "outputId": "13f4d049-5dbc-4a45-97ed-5013f8e50344"
      },
      "outputs": [
        {
          "output_type": "stream",
          "name": "stdout",
          "text": [
            "Positive numbers: [12, 23, 4, 56, 77, 7, 90, 90]\n"
          ]
        }
      ],
      "source": [
        "# Input list\n",
        "input_list = [12, 23, 4, 56, 77, -89, 7, 90, 90, -87, -99]\n",
        "\n",
        "# Create a new list with only positive elements\n",
        "positive_numbers = [num for num in input_list if num > 0]\n",
        "\n",
        "# Print the result\n",
        "print(\"Positive numbers:\", positive_numbers)"
      ]
    },
    {
      "cell_type": "markdown",
      "source": [
        "2.Write a program to add item 7000 after 6000 in the following Python List\n",
        "\n",
        "list1 = [10, 20, [300, 400, [5000, 6000], 500], 30, 40]\n",
        "\n",
        "expected o/p ; [10, 20, [300, 400, [5000, 6000, 7000], 500], 30, 40]\n"
      ],
      "metadata": {
        "id": "RKFNB2l9A2ht"
      }
    },
    {
      "cell_type": "code",
      "source": [
        "list1 = [10, 20, [300, 400, [5000, 6000], 500], 30, 40]\n",
        "\n",
        "# Add 7000 after 6000 in the nested list\n",
        "list1[2][2].append(7000)\n",
        "\n",
        "# Print the result\n",
        "print(\"Updated list:\", list1)"
      ],
      "metadata": {
        "colab": {
          "base_uri": "https://localhost:8080/"
        },
        "id": "EB7ONjgtA4H0",
        "outputId": "04dcf6c1-1013-494c-c64a-80ddc8d8076e"
      },
      "execution_count": 2,
      "outputs": [
        {
          "output_type": "stream",
          "name": "stdout",
          "text": [
            "Updated list: [10, 20, [300, 400, [5000, 6000, 7000], 500], 30, 40]\n"
          ]
        }
      ]
    },
    {
      "cell_type": "markdown",
      "source": [
        "3.You have given a Python list. Write a program to find value 20 in the list, and if it is present, replace it with 200. Only update the first occurrence of an item.\n",
        "\n",
        "list1 = [5, 10, 15, 20, 25, 50, 20]\n",
        "\n",
        "Expected output:\n",
        "[5, 10, 15, 200, 25, 50, 20]"
      ],
      "metadata": {
        "id": "Hv-asUKrBM8t"
      }
    },
    {
      "cell_type": "code",
      "source": [
        "# Original list\n",
        "list1 = [5, 10, 15, 20, 25, 50, 20]\n",
        "\n",
        "# Find the first occurrence of 20 and replace it with 200\n",
        "if 20 in list1:\n",
        "    list1[list1.index(20)] = 200\n",
        "\n",
        "# Print the result\n",
        "print(\"Updated list:\", list1)"
      ],
      "metadata": {
        "colab": {
          "base_uri": "https://localhost:8080/"
        },
        "id": "yqJJFNCiBUYa",
        "outputId": "efae6cf9-56cf-4b6c-b87d-c45fd013efc7"
      },
      "execution_count": 3,
      "outputs": [
        {
          "output_type": "stream",
          "name": "stdout",
          "text": [
            "Updated list: [5, 10, 15, 200, 25, 50, 20]\n"
          ]
        }
      ]
    },
    {
      "cell_type": "markdown",
      "source": [
        "4.Remove all occurrences of a specific item from a list.\n",
        "Given a Python list, write a program to remove all occurrences of item 20.\n",
        "\n",
        "list1 = [5, 20, 15, 20, 25, 50, 20]\n",
        "\n",
        "Expected output:\n",
        "\n",
        "[5, 15, 25, 50]"
      ],
      "metadata": {
        "id": "VUAEL0QqBqqC"
      }
    },
    {
      "cell_type": "code",
      "source": [
        "# Original list\n",
        "list1 = [5, 20, 15, 20, 25, 50, 20]\n",
        "\n",
        "# Remove all occurrences of 20\n",
        "list1 = [item for item in list1 if item != 20]\n",
        "\n",
        "# Print the result\n",
        "print(\"Updated list:\", list1)"
      ],
      "metadata": {
        "colab": {
          "base_uri": "https://localhost:8080/"
        },
        "id": "iLdr0AH9BrjV",
        "outputId": "e43f85b1-275b-461d-a025-cf888054c700"
      },
      "execution_count": 4,
      "outputs": [
        {
          "output_type": "stream",
          "name": "stdout",
          "text": [
            "Updated list: [5, 15, 25, 50]\n"
          ]
        }
      ]
    },
    {
      "cell_type": "markdown",
      "source": [
        "5.Concatenate two lists in the following order\n",
        "\n",
        "list1 = [\"Hello \", \"take \"]\n",
        "\n",
        "list2 = [\"Dear\", \"Sir\"]\n",
        "\n",
        "Expected output:\n",
        "\n",
        "['Hello Dear', 'Hello Sir', 'take Dear', 'take Sir']"
      ],
      "metadata": {
        "id": "EQVNDVaSB281"
      }
    },
    {
      "cell_type": "code",
      "source": [
        "# Given lists\n",
        "list1 = [\"Hello \", \"take \"]\n",
        "list2 = [\"Dear\", \"Sir\"]\n",
        "\n",
        "# Concatenate lists in the specified order\n",
        "result = [item1 + item2 for item1 in list1 for item2 in list2]\n",
        "\n",
        "# Print the result\n",
        "print(\"Concatenated list:\", result)"
      ],
      "metadata": {
        "colab": {
          "base_uri": "https://localhost:8080/"
        },
        "id": "yQgstUOHB6_j",
        "outputId": "7df6b216-b5ad-44e5-80d5-7dcb0a20ea8b"
      },
      "execution_count": 5,
      "outputs": [
        {
          "output_type": "stream",
          "name": "stdout",
          "text": [
            "Concatenated list: ['Hello Dear', 'Hello Sir', 'take Dear', 'take Sir']\n"
          ]
        }
      ]
    }
  ]
}