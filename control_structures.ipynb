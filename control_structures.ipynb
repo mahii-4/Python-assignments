{
  "nbformat": 4,
  "nbformat_minor": 0,
  "metadata": {
    "colab": {
      "provenance": []
    },
    "kernelspec": {
      "name": "python3",
      "display_name": "Python 3"
    },
    "language_info": {
      "name": "python"
    }
  },
  "cells": [
    {
      "cell_type": "markdown",
      "source": [
        "Problem 1: Print the first 10 natural numbers using a for loop."
      ],
      "metadata": {
        "id": "Pmxp3Sofr-wR"
      }
    },
    {
      "cell_type": "code",
      "execution_count": 1,
      "metadata": {
        "colab": {
          "base_uri": "https://localhost:8080/"
        },
        "id": "6nYXJ6IWrSC4",
        "outputId": "227d2bb2-45ea-409c-8cad-e7f988d48766"
      },
      "outputs": [
        {
          "output_type": "stream",
          "name": "stdout",
          "text": [
            "1\n",
            "2\n",
            "3\n",
            "4\n",
            "5\n",
            "6\n",
            "7\n",
            "8\n",
            "9\n",
            "10\n"
          ]
        }
      ],
      "source": [
        "for i in range(1, 11):\n",
        "  print(i)"
      ]
    },
    {
      "cell_type": "markdown",
      "source": [
        "Problem 2: Python program to print all the even numbers within the given range (0 to 100)."
      ],
      "metadata": {
        "id": "5eapXrALsHMz"
      }
    },
    {
      "cell_type": "code",
      "source": [
        "for i in range(0, 101):\n",
        "\n",
        "    if i % 2 == 0:\n",
        "        print(i)"
      ],
      "metadata": {
        "colab": {
          "base_uri": "https://localhost:8080/"
        },
        "id": "EaShk1OksMOF",
        "outputId": "2c64407e-0af0-404c-a5d5-fdc5b062b1fa"
      },
      "execution_count": 6,
      "outputs": [
        {
          "output_type": "stream",
          "name": "stdout",
          "text": [
            "0\n",
            "2\n",
            "4\n",
            "6\n",
            "8\n",
            "10\n",
            "12\n",
            "14\n",
            "16\n",
            "18\n",
            "20\n",
            "22\n",
            "24\n",
            "26\n",
            "28\n",
            "30\n",
            "32\n",
            "34\n",
            "36\n",
            "38\n",
            "40\n",
            "42\n",
            "44\n",
            "46\n",
            "48\n",
            "50\n",
            "52\n",
            "54\n",
            "56\n",
            "58\n",
            "60\n",
            "62\n",
            "64\n",
            "66\n",
            "68\n",
            "70\n",
            "72\n",
            "74\n",
            "76\n",
            "78\n",
            "80\n",
            "82\n",
            "84\n",
            "86\n",
            "88\n",
            "90\n",
            "92\n",
            "94\n",
            "96\n",
            "98\n",
            "100\n"
          ]
        }
      ]
    },
    {
      "cell_type": "markdown",
      "source": [
        "Problem 3: Python program to calculate the sum of all numbers from 1 to a given number (15)."
      ],
      "metadata": {
        "id": "qZP4dawosQR3"
      }
    },
    {
      "cell_type": "code",
      "source": [
        "n = 15\n",
        "\n",
        "total_sum = 0\n",
        "\n",
        "for i in range(1, n + 1):\n",
        "    total_sum += i\n",
        "\n",
        "print(total_sum)"
      ],
      "metadata": {
        "colab": {
          "base_uri": "https://localhost:8080/"
        },
        "id": "4JQSIch8sP34",
        "outputId": "9c3e6f11-e760-434f-911b-d20fcc4eca38"
      },
      "execution_count": 7,
      "outputs": [
        {
          "output_type": "stream",
          "name": "stdout",
          "text": [
            "120\n"
          ]
        }
      ]
    },
    {
      "cell_type": "markdown",
      "source": [
        "Problem 4: Python program to calculate the sum of all the odd numbers within the given range (10)."
      ],
      "metadata": {
        "id": "YtvoXcCgsrRl"
      }
    },
    {
      "cell_type": "code",
      "source": [
        "n = 10\n",
        "odd_sum = 0\n",
        "for i in range(1, n + 1):\n",
        "    if i % 2 != 0:\n",
        "        odd_sum += i\n",
        "print(odd_sum)"
      ],
      "metadata": {
        "colab": {
          "base_uri": "https://localhost:8080/"
        },
        "id": "MQe5NMXwssXk",
        "outputId": "18b285be-948a-4822-8681-a91851d7190a"
      },
      "execution_count": 8,
      "outputs": [
        {
          "output_type": "stream",
          "name": "stdout",
          "text": [
            "25\n"
          ]
        }
      ]
    },
    {
      "cell_type": "markdown",
      "source": [
        "Problem 5: Python program to print a multiplication table of a given number (5)."
      ],
      "metadata": {
        "id": "Uyo3Z147tA-i"
      }
    },
    {
      "cell_type": "code",
      "source": [
        "\n",
        "n = 5\n",
        "\n",
        "for i in range(1, 11):\n",
        "\n",
        "    print(n, \"x\", i, \"=\", n * i)"
      ],
      "metadata": {
        "colab": {
          "base_uri": "https://localhost:8080/"
        },
        "id": "79BrNRbTtFL2",
        "outputId": "db0d8377-5da3-4598-ce87-720b8f653698"
      },
      "execution_count": 9,
      "outputs": [
        {
          "output_type": "stream",
          "name": "stdout",
          "text": [
            "5 x 1 = 5\n",
            "5 x 2 = 10\n",
            "5 x 3 = 15\n",
            "5 x 4 = 20\n",
            "5 x 5 = 25\n",
            "5 x 6 = 30\n",
            "5 x 7 = 35\n",
            "5 x 8 = 40\n",
            "5 x 9 = 45\n",
            "5 x 10 = 50\n"
          ]
        }
      ]
    }
  ]
}