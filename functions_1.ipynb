{
  "nbformat": 4,
  "nbformat_minor": 0,
  "metadata": {
    "colab": {
      "provenance": []
    },
    "kernelspec": {
      "name": "python3",
      "display_name": "Python 3"
    },
    "language_info": {
      "name": "python"
    }
  },
  "cells": [
    {
      "cell_type": "markdown",
      "source": [
        "Problem 1: Summing Numbers in a List"
      ],
      "metadata": {
        "id": "T1SS8ojHxOva"
      }
    },
    {
      "cell_type": "code",
      "source": [
        "def sum_list(numbers):\n",
        "    total = 0\n",
        "    for num in numbers:\n",
        "        total += num\n",
        "    return total\n",
        "\n",
        "sample_list = (8, 2, 3, 0, 7)\n",
        "result = sum_list(sample_list)\n",
        "print(result)\n"
      ],
      "metadata": {
        "colab": {
          "base_uri": "https://localhost:8080/"
        },
        "id": "Y2yp9Dw2xQ_I",
        "outputId": "8eef8393-3155-4eb4-c9e3-b7e9a4849f66"
      },
      "execution_count": 19,
      "outputs": [
        {
          "output_type": "stream",
          "name": "stdout",
          "text": [
            "20\n"
          ]
        }
      ]
    },
    {
      "cell_type": "markdown",
      "source": [
        "Problem 2: Multiplying Numbers in a List"
      ],
      "metadata": {
        "id": "XTi8qYa-xS5l"
      }
    },
    {
      "cell_type": "code",
      "source": [
        "def multiply_list(numbers):\n",
        "    product = 1\n",
        "    for num in numbers:\n",
        "        product *= num\n",
        "    return product\n",
        "\n",
        "sample_list = (8, 2, 3, -1, 7)\n",
        "result = multiply_list(sample_list)\n",
        "print(result)\n"
      ],
      "metadata": {
        "colab": {
          "base_uri": "https://localhost:8080/"
        },
        "id": "J5rQ55smxVAi",
        "outputId": "aeecb935-eb97-4eba-9161-13420da6a78d"
      },
      "execution_count": 18,
      "outputs": [
        {
          "output_type": "stream",
          "name": "stdout",
          "text": [
            "-336\n"
          ]
        }
      ]
    },
    {
      "cell_type": "markdown",
      "source": [
        "Problem 3: Reversing a String"
      ],
      "metadata": {
        "id": "Ibc_BttuxW5p"
      }
    },
    {
      "cell_type": "code",
      "source": [
        "def reverse_string(s):\n",
        "    return s[::-1]\n",
        "\n",
        "sample_string = \"1234abcd\"\n",
        "reversed_string = reverse_string(sample_string)\n",
        "print(reversed_string)"
      ],
      "metadata": {
        "colab": {
          "base_uri": "https://localhost:8080/"
        },
        "id": "tMZ0MD0kxY42",
        "outputId": "26894c2b-bbf7-441a-b7e3-8fec120ae0fd"
      },
      "execution_count": 17,
      "outputs": [
        {
          "output_type": "stream",
          "name": "stdout",
          "text": [
            "dcba4321\n"
          ]
        }
      ]
    },
    {
      "cell_type": "markdown",
      "source": [
        "Problem 4: Calculating Factorial"
      ],
      "metadata": {
        "id": "E2-XbCNlxa58"
      }
    },
    {
      "cell_type": "code",
      "source": [
        "def factorial(n):\n",
        "    if n == 0:\n",
        "        return 1\n",
        "    else:\n",
        "        fact = 1\n",
        "        for i in range(1, n + 1):\n",
        "            fact *= i\n",
        "        return fact\n",
        "\n",
        "number = 5\n",
        "result = factorial(number)\n",
        "print(result)"
      ],
      "metadata": {
        "colab": {
          "base_uri": "https://localhost:8080/"
        },
        "id": "GZjEvEyrxeZ9",
        "outputId": "ac2b0357-4408-41f0-91c1-bfd43b5b3fca"
      },
      "execution_count": 16,
      "outputs": [
        {
          "output_type": "stream",
          "name": "stdout",
          "text": [
            "120\n"
          ]
        }
      ]
    },
    {
      "cell_type": "markdown",
      "source": [
        "Problem 5: Checking Number in a Range"
      ],
      "metadata": {
        "id": "WGA0elRfxjAc"
      }
    },
    {
      "cell_type": "code",
      "source": [
        "def is_in_range(number, start, end):\n",
        "    if start <= number <= end:\n",
        "        return True\n",
        "    else:\n",
        "        return False\n",
        "\n",
        "number = 25\n",
        "start_range = 10\n",
        "end_range = 50\n",
        "result = is_in_range(number, start_range, end_range)\n",
        "print(result)"
      ],
      "metadata": {
        "colab": {
          "base_uri": "https://localhost:8080/"
        },
        "id": "vh92V9JFxodI",
        "outputId": "afe2831d-0efc-4dc5-b7cb-b83c317ac203"
      },
      "execution_count": 15,
      "outputs": [
        {
          "output_type": "stream",
          "name": "stdout",
          "text": [
            "True\n"
          ]
        }
      ]
    }
  ]
}