{
  "nbformat": 4,
  "nbformat_minor": 0,
  "metadata": {
    "colab": {
      "provenance": []
    },
    "kernelspec": {
      "name": "python3",
      "display_name": "Python 3"
    },
    "language_info": {
      "name": "python"
    }
  },
  "cells": [
    {
      "cell_type": "markdown",
      "source": [
        "Problem 1: Counting Digits in a Number"
      ],
      "metadata": {
        "id": "v50ySukGvbna"
      }
    },
    {
      "cell_type": "code",
      "source": [
        "number_str = input(\"Enter a number: \")\n",
        "digit_count = 0\n",
        "for char in number_str:\n",
        "  if char.isdigit():\n",
        "    digit_count += 1\n",
        "print(\"The number of digits is:\", digit_count)"
      ],
      "metadata": {
        "colab": {
          "base_uri": "https://localhost:8080/"
        },
        "id": "oCXEveWZvehN",
        "outputId": "29f69a2a-3458-4fcd-a972-6f821f6b550d"
      },
      "execution_count": 10,
      "outputs": [
        {
          "output_type": "stream",
          "name": "stdout",
          "text": [
            "Enter a number: 689074543\n",
            "The number of digits is: 9\n"
          ]
        }
      ]
    },
    {
      "cell_type": "markdown",
      "source": [
        "Problem 2: Counting Even and Odd Numbers in a List"
      ],
      "metadata": {
        "id": "3i71j2i_vg-K"
      }
    },
    {
      "cell_type": "code",
      "source": [
        "num_list = [1, 3, 5, 6, 99, 134, 55]\n",
        "even_count = 0\n",
        "odd_count = 0\n",
        "for num in num_list:\n",
        "    if num % 2 == 0:\n",
        "        even_count += 1\n",
        "    else:\n",
        "        odd_count += 1\n",
        "print(\"Number of even numbers:\", even_count)\n",
        "print(\"Number of odd numbers:\", odd_count)"
      ],
      "metadata": {
        "colab": {
          "base_uri": "https://localhost:8080/"
        },
        "id": "jg-8L97dvkJX",
        "outputId": "fc694965-6868-46a2-c388-86d25843469b"
      },
      "execution_count": 11,
      "outputs": [
        {
          "output_type": "stream",
          "name": "stdout",
          "text": [
            "Number of even numbers: 2\n",
            "Number of odd numbers: 5\n"
          ]
        }
      ]
    },
    {
      "cell_type": "markdown",
      "source": [
        "Problem 3: Fibonacci Series up to 50"
      ],
      "metadata": {
        "id": "oZD6AAzUvm2O"
      }
    },
    {
      "cell_type": "code",
      "source": [
        "a, b = 0, 1\n",
        "while a <= 50:\n",
        "    print(a, end=\" \")\n",
        "    a, b = b, a + b"
      ],
      "metadata": {
        "colab": {
          "base_uri": "https://localhost:8080/"
        },
        "id": "ebE6hRwAvpHs",
        "outputId": "795c1e21-07c9-4da9-c2f7-fb2430a9ee5b"
      },
      "execution_count": 12,
      "outputs": [
        {
          "output_type": "stream",
          "name": "stdout",
          "text": [
            "0 1 1 2 3 5 8 13 21 34 "
          ]
        }
      ]
    },
    {
      "cell_type": "markdown",
      "source": [
        "Problem 4: Counting Digits and Letters in a String"
      ],
      "metadata": {
        "id": "atkIlZmlvrWU"
      }
    },
    {
      "cell_type": "code",
      "source": [
        "input_string = \"WEBBLINDERS1234\"\n",
        "digit_count = 0\n",
        "letter_count = 0\n",
        "for char in input_string:\n",
        "    if char.isdigit():\n",
        "        digit_count += 1\n",
        "    elif char.isalpha():\n",
        "        letter_count += 1\n",
        "print(\"Number of digits:\", digit_count)\n",
        "print(\"Number of letters:\", letter_count)"
      ],
      "metadata": {
        "colab": {
          "base_uri": "https://localhost:8080/"
        },
        "id": "SwztT9YIvsKg",
        "outputId": "6cc3cfc0-630a-4263-9680-d55cf022f95e"
      },
      "execution_count": 13,
      "outputs": [
        {
          "output_type": "stream",
          "name": "stdout",
          "text": [
            "Number of digits: 4\n",
            "Number of letters: 11\n"
          ]
        }
      ]
    },
    {
      "cell_type": "markdown",
      "source": [
        "Problem 5: Displaying Numbers in a Range (Excluding Primes)"
      ],
      "metadata": {
        "id": "VsqYPEbnvznu"
      }
    },
    {
      "cell_type": "code",
      "source": [
        "def is_prime(num):\n",
        "    if num <= 1:\n",
        "        return False\n",
        "    for i in range(2, int(num**0.5) + 1):\n",
        "        if num % i == 0:\n",
        "            return False\n",
        "    return True\n",
        "\n",
        "start_range = 30\n",
        "end_range = 80\n",
        "for num in range(start_range, end_range + 1):\n",
        "    if not is_prime(num):\n",
        "        print(num, end=\" \")"
      ],
      "metadata": {
        "colab": {
          "base_uri": "https://localhost:8080/"
        },
        "id": "5g1pv1MNv2G9",
        "outputId": "34df7498-d535-42eb-c8a2-b6a36958d9a9"
      },
      "execution_count": 14,
      "outputs": [
        {
          "output_type": "stream",
          "name": "stdout",
          "text": [
            "30 32 33 34 35 36 38 39 40 42 44 45 46 48 49 50 51 52 54 55 56 57 58 60 62 63 64 65 66 68 69 70 72 74 75 76 77 78 80 "
          ]
        }
      ]
    }
  ]
}