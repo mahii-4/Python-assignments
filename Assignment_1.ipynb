{
  "nbformat": 4,
  "nbformat_minor": 0,
  "metadata": {
    "colab": {
      "provenance": []
    },
    "kernelspec": {
      "name": "python3",
      "display_name": "Python 3"
    },
    "language_info": {
      "name": "python"
    }
  },
  "cells": [
    {
      "cell_type": "markdown",
      "source": [
        "1.Write a Python program to count the number of vowels in a string.\n",
        "\n",
        "input : hasdfgeuionhjl"
      ],
      "metadata": {
        "id": "FTp2BcKw0Kzm"
      }
    },
    {
      "cell_type": "code",
      "source": [
        "string = \"hasdfgeuionhjl\"\n",
        "vowels = \"aeiou\"\n",
        "count = 0\n",
        "\n",
        "for char in string:\n",
        "    if char in vowels:\n",
        "        count += 1\n",
        "\n",
        "print(\"Number of vowels:\", count)"
      ],
      "metadata": {
        "colab": {
          "base_uri": "https://localhost:8080/"
        },
        "id": "UcxMsyNM1fmn",
        "outputId": "1fbeecd0-b53a-418a-d8f4-5582444f2aa2"
      },
      "execution_count": 1,
      "outputs": [
        {
          "output_type": "stream",
          "name": "stdout",
          "text": [
            "Number of vowels: 5\n"
          ]
        }
      ]
    },
    {
      "cell_type": "markdown",
      "source": [
        "2.Write a Python program to count the occurrences of each word in a sentence.\n",
        "\n",
        "input : hi hello hi and and hi more and more programming"
      ],
      "metadata": {
        "id": "_RO_Oxd61mY7"
      }
    },
    {
      "cell_type": "code",
      "execution_count": 3,
      "metadata": {
        "colab": {
          "base_uri": "https://localhost:8080/"
        },
        "id": "JANTkt-XzFFa",
        "outputId": "de88d921-776a-40fb-edc5-a1546b073e29"
      },
      "outputs": [
        {
          "output_type": "stream",
          "name": "stdout",
          "text": [
            "{'hi': 3, 'hello': 1, 'and': 3, 'more': 2, 'programming': 1}\n"
          ]
        }
      ],
      "source": [
        "sentence = \"hi hello hi and and hi more and more programming\"\n",
        "words = sentence.split()\n",
        "word_count = {}\n",
        "\n",
        "for word in words:\n",
        "    word_count[word] = word_count.get(word, 0) + 1\n",
        "\n",
        "print(word_count)"
      ]
    },
    {
      "cell_type": "markdown",
      "source": [
        "3.In python how can you differentiate strings and lists. Give atleast 5 different comparisons between them.\n",
        "\n",
        "Mutability:\n",
        "\n",
        "String: Immutable (cannot be changed after creation).\n",
        "List: Mutable (can be modified after creation).\n",
        "\n",
        "Data Type Storage:\n",
        "\n",
        "String: Stores only characters (essentially a sequence of characters).\n",
        "List: Can store elements of different data types (e.g., numbers, strings, objects).\n",
        "\n",
        "Iteration:\n",
        "\n",
        "String: Iterates character by character.\n",
        "List: Iterates element by element, where each element could be of any type.\n",
        "\n",
        "Indexing and Slicing:\n",
        "\n",
        "Both strings and lists support indexing and slicing, but their behavior differs due to mutability.\n",
        "\n",
        "Built-in Methods:\n",
        "\n",
        "String: Focused on text manipulation (e.g., .upper(), .replace(), .split()).\n",
        "List: Focused on data structure operations (e.g., .append(), .remove(), .sort())\n",
        "\n",
        "\n",
        "\n",
        "\n"
      ],
      "metadata": {
        "id": "xcvq9MzO1yWy"
      }
    },
    {
      "cell_type": "code",
      "source": [
        "s = \"hello\"\n",
        "s[0] = 'H' -> Error: Strings are immutable\n",
        "\n",
        "l = [1, 2, 3]\n",
        "l[0] = 10  # Allowed: Lists are mutable"
      ],
      "metadata": {
        "colab": {
          "base_uri": "https://localhost:8080/",
          "height": 106
        },
        "id": "LLfAdRtJ23R7",
        "outputId": "1f4d5ec8-5877-4cee-a394-1df333e289ec"
      },
      "execution_count": 7,
      "outputs": [
        {
          "output_type": "error",
          "ename": "SyntaxError",
          "evalue": "invalid syntax (<ipython-input-7-b3c3b22ac4ba>, line 2)",
          "traceback": [
            "\u001b[0;36m  File \u001b[0;32m\"<ipython-input-7-b3c3b22ac4ba>\"\u001b[0;36m, line \u001b[0;32m2\u001b[0m\n\u001b[0;31m    s[0] = 'H' -> Error: Strings are immutable\u001b[0m\n\u001b[0m               ^\u001b[0m\n\u001b[0;31mSyntaxError\u001b[0m\u001b[0;31m:\u001b[0m invalid syntax\n"
          ]
        }
      ]
    },
    {
      "cell_type": "code",
      "source": [
        "s = \"hello\"  # String contains characters only\n",
        "l = [1, \"hello\", 3.14]  # List can have mixed data types\n",
        "print(s)\n",
        "print(l)"
      ],
      "metadata": {
        "colab": {
          "base_uri": "https://localhost:8080/"
        },
        "id": "H_6D6Q314Vln",
        "outputId": "b960f2e0-4b8e-47f9-b7d6-3f049dd397f7"
      },
      "execution_count": 9,
      "outputs": [
        {
          "output_type": "stream",
          "name": "stdout",
          "text": [
            "hello\n",
            "[1, 'hello', 3.14]\n"
          ]
        }
      ]
    },
    {
      "cell_type": "code",
      "source": [
        "s = \"hello\"\n",
        "for char in s:\n",
        "    print(char)  # Prints each character\n",
        "\n",
        "l = [1, \"hello\", 3.14]\n",
        "for item in l:\n",
        "    print(item)"
      ],
      "metadata": {
        "colab": {
          "base_uri": "https://localhost:8080/"
        },
        "id": "wkIFonQw4Vcw",
        "outputId": "bedcfbf7-6d4e-48ec-8e7d-c4cb4a1d577c"
      },
      "execution_count": 10,
      "outputs": [
        {
          "output_type": "stream",
          "name": "stdout",
          "text": [
            "h\n",
            "e\n",
            "l\n",
            "l\n",
            "o\n",
            "1\n",
            "hello\n",
            "3.14\n"
          ]
        }
      ]
    },
    {
      "cell_type": "code",
      "source": [
        "s = \"hello\"\n",
        "print(s[1:4])  # Output: \"ell\"\n",
        "\n",
        "l = [1, 2, 3, 4]\n",
        "l[1:3] = [7, 8]  # List slicing can modify elements\n",
        "print(l)  # Output: [1, 7, 8, 4]"
      ],
      "metadata": {
        "colab": {
          "base_uri": "https://localhost:8080/"
        },
        "id": "B3Ls3jf74VZZ",
        "outputId": "90edcbc3-1c98-40a9-9116-bfa3b4f059e0"
      },
      "execution_count": 11,
      "outputs": [
        {
          "output_type": "stream",
          "name": "stdout",
          "text": [
            "ell\n",
            "[1, 7, 8, 4]\n"
          ]
        }
      ]
    },
    {
      "cell_type": "code",
      "source": [
        "s = \"hello\"\n",
        "print(s.upper())  # Output: \"HELLO\"\n",
        "\n",
        "l = [3, 1, 2]\n",
        "l.sort()\n",
        "print(l)  # Output: [1, 2, 3]"
      ],
      "metadata": {
        "colab": {
          "base_uri": "https://localhost:8080/"
        },
        "id": "fGXWyj1L4VMN",
        "outputId": "d210fb62-ed6f-4c8b-d4d2-ae261f619779"
      },
      "execution_count": 12,
      "outputs": [
        {
          "output_type": "stream",
          "name": "stdout",
          "text": [
            "HELLO\n",
            "[1, 2, 3]\n"
          ]
        }
      ]
    },
    {
      "cell_type": "markdown",
      "source": [
        "4.Write a string for your own of approximately 40 in length and perform any 5 different string operations on that."
      ],
      "metadata": {
        "id": "WkgSzGXh6TXq"
      }
    },
    {
      "cell_type": "code",
      "source": [
        "my_string = \"Hello, welcome to the world of Python!\"\n",
        "\n",
        "# 1. Length of the string\n",
        "length = len(my_string)\n",
        "\n",
        "# 2. Convert the string to uppercase\n",
        "uppercase_string = my_string.upper()\n",
        "\n",
        "# 3. Replace the word \"Python\" with \"Programming\"\n",
        "replaced_string = my_string.replace(\"Python\", \"Programming\")\n",
        "\n",
        "# 4. Check if the string contains the word \"Python\"\n",
        "contains_python = \"Python\" in my_string\n",
        "\n",
        "# 5. Extract a substring (from index 7 to 14)\n",
        "substring = my_string[7:14]\n",
        "\n",
        "# Print all results\n",
        "print(\"Original String:\", my_string)\n",
        "print(\"Length of string:\", length)\n",
        "print(\"Uppercase String:\", uppercase_string)\n",
        "print(\"Replaced String:\", replaced_string)\n",
        "print(\"Contains 'Python':\", contains_python)\n",
        "print(\"Substring (7-14):\", substring)"
      ],
      "metadata": {
        "colab": {
          "base_uri": "https://localhost:8080/"
        },
        "id": "A_RelpdI4SHK",
        "outputId": "674d798e-6c57-4d54-d46b-46c22cd9e560"
      },
      "execution_count": 15,
      "outputs": [
        {
          "output_type": "stream",
          "name": "stdout",
          "text": [
            "Original String: Hello, welcome to the world of Python!\n",
            "Length of string: 38\n",
            "Uppercase String: HELLO, WELCOME TO THE WORLD OF PYTHON!\n",
            "Replaced String: Hello, welcome to the world of Programming!\n",
            "Contains 'Python': True\n",
            "Substring (7-14): welcome\n"
          ]
        }
      ]
    },
    {
      "cell_type": "markdown",
      "source": [
        "5.Explain the concatination in strings with a neat example.\n",
        "\n",
        "\n",
        "String concatenation refers to the process of joining two or more strings together to form a single string. In most programming languages, you can concatenate strings using a special operator or function."
      ],
      "metadata": {
        "id": "ftgLmHKt131a"
      }
    },
    {
      "cell_type": "code",
      "source": [
        "# Using the + operator to concatenate strings\n",
        "first_name = \"John\"\n",
        "last_name = \"Doe\"\n",
        "\n",
        "full_name = first_name + \" \" + last_name  # Concatenating the strings with a space in between\n",
        "\n",
        "print(full_name)  # Output: John Doe\n",
        "\n",
        "# Using the join method\n",
        "names = [\"John\", \"Doe\"]\n",
        "full_name = \" \".join(names)\n",
        "\n",
        "print(full_name)  # Output: John Doe"
      ],
      "metadata": {
        "colab": {
          "base_uri": "https://localhost:8080/"
        },
        "id": "aQs9eWYR4SOB",
        "outputId": "7a7f5d50-d62e-4cd1-9edb-b3b0e5eaca38"
      },
      "execution_count": 14,
      "outputs": [
        {
          "output_type": "stream",
          "name": "stdout",
          "text": [
            "John Doe\n",
            "John Doe\n"
          ]
        }
      ]
    }
  ]
}